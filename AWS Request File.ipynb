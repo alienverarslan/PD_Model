{
 "cells": [
  {
   "cell_type": "code",
   "execution_count": 1,
   "metadata": {
    "ExecuteTime": {
     "end_time": "2021-07-29T08:29:00.789994Z",
     "start_time": "2021-07-29T08:28:58.002990Z"
    }
   },
   "outputs": [],
   "source": [
    "import requests\n",
    "import json\n",
    "import numpy as np\n",
    "import pandas as pd"
   ]
  },
  {
   "cell_type": "code",
   "execution_count": 2,
   "metadata": {
    "ExecuteTime": {
     "end_time": "2021-07-29T08:29:02.518005Z",
     "start_time": "2021-07-29T08:29:00.800001Z"
    },
    "scrolled": true
   },
   "outputs": [],
   "source": [
    "#Read the data\n",
    "df = pd.read_csv(\"dataset.csv\", sep=\";\")\n",
    "sample = df.sample(10)\n",
    "#Convert Sample to JSON\n",
    "samplejson = sample.to_json(orient='records')"
   ]
  },
  {
   "cell_type": "code",
   "execution_count": 3,
   "metadata": {
    "ExecuteTime": {
     "end_time": "2021-07-29T08:29:03.720002Z",
     "start_time": "2021-07-29T08:29:02.528015Z"
    }
   },
   "outputs": [],
   "source": [
    "#AWS url\n",
    "aws_proba = 'http://ec2-18-217-254-119.us-east-2.compute.amazonaws.com:8080/predict_proba' \n",
    "aws_predict = 'http://ec2-18-217-254-119.us-east-2.compute.amazonaws.com:8080/predict' \n",
    "#Send the request\n",
    "proba_request = requests.post(aws_proba, samplejson)\n",
    "predict_request = requests.post(aws_predict, samplejson)\n",
    "\n",
    "# Save the result\n",
    "proba_result =proba_request.json()\n",
    "pred_result =predict_request.json()"
   ]
  },
  {
   "cell_type": "code",
   "execution_count": 4,
   "metadata": {
    "ExecuteTime": {
     "end_time": "2021-07-29T08:29:03.751013Z",
     "start_time": "2021-07-29T08:29:03.728001Z"
    }
   },
   "outputs": [],
   "source": [
    "def convertToDf(X, colname=None):\n",
    "    return pd.DataFrame.from_dict(dict(X), orient='index').reset_index().rename(columns={\"index\":\"uuid\", 0:colname})"
   ]
  },
  {
   "cell_type": "code",
   "execution_count": 5,
   "metadata": {
    "ExecuteTime": {
     "end_time": "2021-07-29T08:29:03.940008Z",
     "start_time": "2021-07-29T08:29:03.766015Z"
    }
   },
   "outputs": [
    {
     "data": {
      "text/html": [
       "<div>\n",
       "<style scoped>\n",
       "    .dataframe tbody tr th:only-of-type {\n",
       "        vertical-align: middle;\n",
       "    }\n",
       "\n",
       "    .dataframe tbody tr th {\n",
       "        vertical-align: top;\n",
       "    }\n",
       "\n",
       "    .dataframe thead th {\n",
       "        text-align: right;\n",
       "    }\n",
       "</style>\n",
       "<table border=\"1\" class=\"dataframe\">\n",
       "  <thead>\n",
       "    <tr style=\"text-align: right;\">\n",
       "      <th></th>\n",
       "      <th>uuid</th>\n",
       "      <th>Prob=1</th>\n",
       "      <th>Pred</th>\n",
       "    </tr>\n",
       "  </thead>\n",
       "  <tbody>\n",
       "    <tr>\n",
       "      <th>0</th>\n",
       "      <td>663ff4e6-1967-4353-b9d0-a81a69aff19f</td>\n",
       "      <td>0.002236065</td>\n",
       "      <td>0.0</td>\n",
       "    </tr>\n",
       "    <tr>\n",
       "      <th>1</th>\n",
       "      <td>86405045-73ef-4e4e-a02e-5a299ede0c3f</td>\n",
       "      <td>0.0006419096</td>\n",
       "      <td>0.0</td>\n",
       "    </tr>\n",
       "    <tr>\n",
       "      <th>2</th>\n",
       "      <td>26dff8cc-dd14-4e85-aa48-5a7975f65170</td>\n",
       "      <td>0.0015409464</td>\n",
       "      <td>0.0</td>\n",
       "    </tr>\n",
       "    <tr>\n",
       "      <th>3</th>\n",
       "      <td>601019b7-9677-4130-8f77-048845ddd025</td>\n",
       "      <td>0.064624876</td>\n",
       "      <td>0.0</td>\n",
       "    </tr>\n",
       "    <tr>\n",
       "      <th>4</th>\n",
       "      <td>412fb9f3-dc02-4c29-a242-32f527c8ad25</td>\n",
       "      <td>0.0035644271</td>\n",
       "      <td>0.0</td>\n",
       "    </tr>\n",
       "    <tr>\n",
       "      <th>5</th>\n",
       "      <td>aa0d0c16-11b3-48f9-ae1e-b7dee76ee5be</td>\n",
       "      <td>0.008951993</td>\n",
       "      <td>0.0</td>\n",
       "    </tr>\n",
       "    <tr>\n",
       "      <th>6</th>\n",
       "      <td>4e700152-dd86-4a3a-a50a-d13aa1611ad7</td>\n",
       "      <td>0.0011067105</td>\n",
       "      <td>0.0</td>\n",
       "    </tr>\n",
       "    <tr>\n",
       "      <th>7</th>\n",
       "      <td>a95d639b-c36a-46f7-b01a-746f58e5219d</td>\n",
       "      <td>0.0046495674</td>\n",
       "      <td>0.0</td>\n",
       "    </tr>\n",
       "    <tr>\n",
       "      <th>8</th>\n",
       "      <td>0f0d2c92-11e8-42d4-9ffd-f645389a8629</td>\n",
       "      <td>0.043526158</td>\n",
       "      <td>0.0</td>\n",
       "    </tr>\n",
       "    <tr>\n",
       "      <th>9</th>\n",
       "      <td>ce54b790-3c37-450f-a7ab-238d9bcd04ae</td>\n",
       "      <td>0.00045477325</td>\n",
       "      <td>0.0</td>\n",
       "    </tr>\n",
       "  </tbody>\n",
       "</table>\n",
       "</div>"
      ],
      "text/plain": [
       "                                   uuid         Prob=1 Pred\n",
       "0  663ff4e6-1967-4353-b9d0-a81a69aff19f    0.002236065  0.0\n",
       "1  86405045-73ef-4e4e-a02e-5a299ede0c3f   0.0006419096  0.0\n",
       "2  26dff8cc-dd14-4e85-aa48-5a7975f65170   0.0015409464  0.0\n",
       "3  601019b7-9677-4130-8f77-048845ddd025    0.064624876  0.0\n",
       "4  412fb9f3-dc02-4c29-a242-32f527c8ad25   0.0035644271  0.0\n",
       "5  aa0d0c16-11b3-48f9-ae1e-b7dee76ee5be    0.008951993  0.0\n",
       "6  4e700152-dd86-4a3a-a50a-d13aa1611ad7   0.0011067105  0.0\n",
       "7  a95d639b-c36a-46f7-b01a-746f58e5219d   0.0046495674  0.0\n",
       "8  0f0d2c92-11e8-42d4-9ffd-f645389a8629    0.043526158  0.0\n",
       "9  ce54b790-3c37-450f-a7ab-238d9bcd04ae  0.00045477325  0.0"
      ]
     },
     "execution_count": 5,
     "metadata": {},
     "output_type": "execute_result"
    }
   ],
   "source": [
    "#Print the Results\n",
    "probadf, preddf = convertToDf(proba_result, \"Prob=1\"), convertToDf(pred_result, \"Pred\")\n",
    "\n",
    "resultdf = probadf.merge(preddf, how='outer', on='uuid')\n",
    "resultdf"
   ]
  }
 ],
 "metadata": {
  "kernelspec": {
   "display_name": "Python 3",
   "language": "python",
   "name": "python3"
  },
  "language_info": {
   "codemirror_mode": {
    "name": "ipython",
    "version": 3
   },
   "file_extension": ".py",
   "mimetype": "text/x-python",
   "name": "python",
   "nbconvert_exporter": "python",
   "pygments_lexer": "ipython3",
   "version": "3.7.6"
  },
  "toc": {
   "base_numbering": 1,
   "nav_menu": {},
   "number_sections": true,
   "sideBar": true,
   "skip_h1_title": false,
   "title_cell": "Table of Contents",
   "title_sidebar": "Contents",
   "toc_cell": false,
   "toc_position": {},
   "toc_section_display": true,
   "toc_window_display": false
  },
  "varInspector": {
   "cols": {
    "lenName": 16,
    "lenType": 16,
    "lenVar": 40
   },
   "kernels_config": {
    "python": {
     "delete_cmd_postfix": "",
     "delete_cmd_prefix": "del ",
     "library": "var_list.py",
     "varRefreshCmd": "print(var_dic_list())"
    },
    "r": {
     "delete_cmd_postfix": ") ",
     "delete_cmd_prefix": "rm(",
     "library": "var_list.r",
     "varRefreshCmd": "cat(var_dic_list()) "
    }
   },
   "types_to_exclude": [
    "module",
    "function",
    "builtin_function_or_method",
    "instance",
    "_Feature"
   ],
   "window_display": false
  }
 },
 "nbformat": 4,
 "nbformat_minor": 2
}
